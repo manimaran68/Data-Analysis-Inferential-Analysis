{
 "cells": [
  {
   "cell_type": "code",
   "execution_count": 16,
   "id": "1615c89f-9fdc-4ea9-8eca-2ca3bab17cf8",
   "metadata": {},
   "outputs": [],
   "source": [
    "import pandas as pd\n",
    "import warnings\n",
    "warnings.filterwarnings(\"ignore\")"
   ]
  },
  {
   "cell_type": "code",
   "execution_count": 17,
   "id": "6bd7b509-e3a7-48ab-ba87-1995aec71a13",
   "metadata": {},
   "outputs": [
    {
     "data": {
      "text/html": [
       "<div>\n",
       "<style scoped>\n",
       "    .dataframe tbody tr th:only-of-type {\n",
       "        vertical-align: middle;\n",
       "    }\n",
       "\n",
       "    .dataframe tbody tr th {\n",
       "        vertical-align: top;\n",
       "    }\n",
       "\n",
       "    .dataframe thead th {\n",
       "        text-align: right;\n",
       "    }\n",
       "</style>\n",
       "<table border=\"1\" class=\"dataframe\">\n",
       "  <thead>\n",
       "    <tr style=\"text-align: right;\">\n",
       "      <th></th>\n",
       "      <th>sl_no</th>\n",
       "      <th>gender</th>\n",
       "      <th>ssc_p</th>\n",
       "      <th>ssc_b</th>\n",
       "      <th>hsc_p</th>\n",
       "      <th>hsc_b</th>\n",
       "      <th>hsc_s</th>\n",
       "      <th>degree_p</th>\n",
       "      <th>degree_t</th>\n",
       "      <th>workex</th>\n",
       "      <th>etest_p</th>\n",
       "      <th>specialisation</th>\n",
       "      <th>mba_p</th>\n",
       "      <th>status</th>\n",
       "      <th>salary</th>\n",
       "    </tr>\n",
       "  </thead>\n",
       "  <tbody>\n",
       "    <tr>\n",
       "      <th>0</th>\n",
       "      <td>1</td>\n",
       "      <td>M</td>\n",
       "      <td>67.00</td>\n",
       "      <td>Others</td>\n",
       "      <td>91.00</td>\n",
       "      <td>Others</td>\n",
       "      <td>Commerce</td>\n",
       "      <td>58.00</td>\n",
       "      <td>Sci&amp;Tech</td>\n",
       "      <td>No</td>\n",
       "      <td>55.0</td>\n",
       "      <td>Mkt&amp;HR</td>\n",
       "      <td>58.80</td>\n",
       "      <td>Placed</td>\n",
       "      <td>270000.0</td>\n",
       "    </tr>\n",
       "    <tr>\n",
       "      <th>1</th>\n",
       "      <td>2</td>\n",
       "      <td>M</td>\n",
       "      <td>79.33</td>\n",
       "      <td>Central</td>\n",
       "      <td>78.33</td>\n",
       "      <td>Others</td>\n",
       "      <td>Science</td>\n",
       "      <td>77.48</td>\n",
       "      <td>Sci&amp;Tech</td>\n",
       "      <td>Yes</td>\n",
       "      <td>86.5</td>\n",
       "      <td>Mkt&amp;Fin</td>\n",
       "      <td>66.28</td>\n",
       "      <td>Placed</td>\n",
       "      <td>200000.0</td>\n",
       "    </tr>\n",
       "    <tr>\n",
       "      <th>2</th>\n",
       "      <td>3</td>\n",
       "      <td>M</td>\n",
       "      <td>65.00</td>\n",
       "      <td>Central</td>\n",
       "      <td>68.00</td>\n",
       "      <td>Central</td>\n",
       "      <td>Arts</td>\n",
       "      <td>64.00</td>\n",
       "      <td>Comm&amp;Mgmt</td>\n",
       "      <td>No</td>\n",
       "      <td>75.0</td>\n",
       "      <td>Mkt&amp;Fin</td>\n",
       "      <td>57.80</td>\n",
       "      <td>Placed</td>\n",
       "      <td>250000.0</td>\n",
       "    </tr>\n",
       "    <tr>\n",
       "      <th>3</th>\n",
       "      <td>4</td>\n",
       "      <td>M</td>\n",
       "      <td>56.00</td>\n",
       "      <td>Central</td>\n",
       "      <td>52.00</td>\n",
       "      <td>Central</td>\n",
       "      <td>Science</td>\n",
       "      <td>52.00</td>\n",
       "      <td>Sci&amp;Tech</td>\n",
       "      <td>No</td>\n",
       "      <td>66.0</td>\n",
       "      <td>Mkt&amp;HR</td>\n",
       "      <td>59.43</td>\n",
       "      <td>Not Placed</td>\n",
       "      <td>NaN</td>\n",
       "    </tr>\n",
       "    <tr>\n",
       "      <th>4</th>\n",
       "      <td>5</td>\n",
       "      <td>M</td>\n",
       "      <td>85.80</td>\n",
       "      <td>Central</td>\n",
       "      <td>73.60</td>\n",
       "      <td>Central</td>\n",
       "      <td>Commerce</td>\n",
       "      <td>73.30</td>\n",
       "      <td>Comm&amp;Mgmt</td>\n",
       "      <td>No</td>\n",
       "      <td>96.8</td>\n",
       "      <td>Mkt&amp;Fin</td>\n",
       "      <td>55.50</td>\n",
       "      <td>Placed</td>\n",
       "      <td>425000.0</td>\n",
       "    </tr>\n",
       "    <tr>\n",
       "      <th>...</th>\n",
       "      <td>...</td>\n",
       "      <td>...</td>\n",
       "      <td>...</td>\n",
       "      <td>...</td>\n",
       "      <td>...</td>\n",
       "      <td>...</td>\n",
       "      <td>...</td>\n",
       "      <td>...</td>\n",
       "      <td>...</td>\n",
       "      <td>...</td>\n",
       "      <td>...</td>\n",
       "      <td>...</td>\n",
       "      <td>...</td>\n",
       "      <td>...</td>\n",
       "      <td>...</td>\n",
       "    </tr>\n",
       "    <tr>\n",
       "      <th>210</th>\n",
       "      <td>211</td>\n",
       "      <td>M</td>\n",
       "      <td>80.60</td>\n",
       "      <td>Others</td>\n",
       "      <td>82.00</td>\n",
       "      <td>Others</td>\n",
       "      <td>Commerce</td>\n",
       "      <td>77.60</td>\n",
       "      <td>Comm&amp;Mgmt</td>\n",
       "      <td>No</td>\n",
       "      <td>91.0</td>\n",
       "      <td>Mkt&amp;Fin</td>\n",
       "      <td>74.49</td>\n",
       "      <td>Placed</td>\n",
       "      <td>400000.0</td>\n",
       "    </tr>\n",
       "    <tr>\n",
       "      <th>211</th>\n",
       "      <td>212</td>\n",
       "      <td>M</td>\n",
       "      <td>58.00</td>\n",
       "      <td>Others</td>\n",
       "      <td>60.00</td>\n",
       "      <td>Others</td>\n",
       "      <td>Science</td>\n",
       "      <td>72.00</td>\n",
       "      <td>Sci&amp;Tech</td>\n",
       "      <td>No</td>\n",
       "      <td>74.0</td>\n",
       "      <td>Mkt&amp;Fin</td>\n",
       "      <td>53.62</td>\n",
       "      <td>Placed</td>\n",
       "      <td>275000.0</td>\n",
       "    </tr>\n",
       "    <tr>\n",
       "      <th>212</th>\n",
       "      <td>213</td>\n",
       "      <td>M</td>\n",
       "      <td>67.00</td>\n",
       "      <td>Others</td>\n",
       "      <td>67.00</td>\n",
       "      <td>Others</td>\n",
       "      <td>Commerce</td>\n",
       "      <td>73.00</td>\n",
       "      <td>Comm&amp;Mgmt</td>\n",
       "      <td>Yes</td>\n",
       "      <td>59.0</td>\n",
       "      <td>Mkt&amp;Fin</td>\n",
       "      <td>69.72</td>\n",
       "      <td>Placed</td>\n",
       "      <td>295000.0</td>\n",
       "    </tr>\n",
       "    <tr>\n",
       "      <th>213</th>\n",
       "      <td>214</td>\n",
       "      <td>F</td>\n",
       "      <td>74.00</td>\n",
       "      <td>Others</td>\n",
       "      <td>66.00</td>\n",
       "      <td>Others</td>\n",
       "      <td>Commerce</td>\n",
       "      <td>58.00</td>\n",
       "      <td>Comm&amp;Mgmt</td>\n",
       "      <td>No</td>\n",
       "      <td>70.0</td>\n",
       "      <td>Mkt&amp;HR</td>\n",
       "      <td>60.23</td>\n",
       "      <td>Placed</td>\n",
       "      <td>204000.0</td>\n",
       "    </tr>\n",
       "    <tr>\n",
       "      <th>214</th>\n",
       "      <td>215</td>\n",
       "      <td>M</td>\n",
       "      <td>62.00</td>\n",
       "      <td>Central</td>\n",
       "      <td>58.00</td>\n",
       "      <td>Others</td>\n",
       "      <td>Science</td>\n",
       "      <td>53.00</td>\n",
       "      <td>Comm&amp;Mgmt</td>\n",
       "      <td>No</td>\n",
       "      <td>89.0</td>\n",
       "      <td>Mkt&amp;HR</td>\n",
       "      <td>60.22</td>\n",
       "      <td>Not Placed</td>\n",
       "      <td>NaN</td>\n",
       "    </tr>\n",
       "  </tbody>\n",
       "</table>\n",
       "<p>215 rows × 15 columns</p>\n",
       "</div>"
      ],
      "text/plain": [
       "     sl_no gender  ssc_p    ssc_b  hsc_p    hsc_b     hsc_s  degree_p  \\\n",
       "0        1      M  67.00   Others  91.00   Others  Commerce     58.00   \n",
       "1        2      M  79.33  Central  78.33   Others   Science     77.48   \n",
       "2        3      M  65.00  Central  68.00  Central      Arts     64.00   \n",
       "3        4      M  56.00  Central  52.00  Central   Science     52.00   \n",
       "4        5      M  85.80  Central  73.60  Central  Commerce     73.30   \n",
       "..     ...    ...    ...      ...    ...      ...       ...       ...   \n",
       "210    211      M  80.60   Others  82.00   Others  Commerce     77.60   \n",
       "211    212      M  58.00   Others  60.00   Others   Science     72.00   \n",
       "212    213      M  67.00   Others  67.00   Others  Commerce     73.00   \n",
       "213    214      F  74.00   Others  66.00   Others  Commerce     58.00   \n",
       "214    215      M  62.00  Central  58.00   Others   Science     53.00   \n",
       "\n",
       "      degree_t workex  etest_p specialisation  mba_p      status    salary  \n",
       "0     Sci&Tech     No     55.0         Mkt&HR  58.80      Placed  270000.0  \n",
       "1     Sci&Tech    Yes     86.5        Mkt&Fin  66.28      Placed  200000.0  \n",
       "2    Comm&Mgmt     No     75.0        Mkt&Fin  57.80      Placed  250000.0  \n",
       "3     Sci&Tech     No     66.0         Mkt&HR  59.43  Not Placed       NaN  \n",
       "4    Comm&Mgmt     No     96.8        Mkt&Fin  55.50      Placed  425000.0  \n",
       "..         ...    ...      ...            ...    ...         ...       ...  \n",
       "210  Comm&Mgmt     No     91.0        Mkt&Fin  74.49      Placed  400000.0  \n",
       "211   Sci&Tech     No     74.0        Mkt&Fin  53.62      Placed  275000.0  \n",
       "212  Comm&Mgmt    Yes     59.0        Mkt&Fin  69.72      Placed  295000.0  \n",
       "213  Comm&Mgmt     No     70.0         Mkt&HR  60.23      Placed  204000.0  \n",
       "214  Comm&Mgmt     No     89.0         Mkt&HR  60.22  Not Placed       NaN  \n",
       "\n",
       "[215 rows x 15 columns]"
      ]
     },
     "execution_count": 17,
     "metadata": {},
     "output_type": "execute_result"
    }
   ],
   "source": [
    "dataset=pd.read_csv(\"Placement.csv\")\n",
    "dataset"
   ]
  },
  {
   "cell_type": "code",
   "execution_count": 18,
   "id": "82e79388-73f2-4d3b-9637-95942790d7d5",
   "metadata": {},
   "outputs": [
    {
     "data": {
      "text/plain": [
       "sl_no              0\n",
       "gender             0\n",
       "ssc_p              0\n",
       "ssc_b              0\n",
       "hsc_p              0\n",
       "hsc_b              0\n",
       "hsc_s              0\n",
       "degree_p           0\n",
       "degree_t           0\n",
       "workex             0\n",
       "etest_p            0\n",
       "specialisation     0\n",
       "mba_p              0\n",
       "status             0\n",
       "salary            67\n",
       "dtype: int64"
      ]
     },
     "execution_count": 18,
     "metadata": {},
     "output_type": "execute_result"
    }
   ],
   "source": [
    "#Check how many missing values each column has\n",
    "dataset.isnull().sum()"
   ]
  },
  {
   "cell_type": "code",
   "execution_count": 19,
   "id": "98719352-b10e-43e3-84a0-c45f20e0faf8",
   "metadata": {},
   "outputs": [
    {
     "data": {
      "text/plain": [
       "Index(['sl_no', 'gender', 'ssc_p', 'ssc_b', 'hsc_p', 'hsc_b', 'hsc_s',\n",
       "       'degree_p', 'degree_t', 'workex', 'etest_p', 'specialisation', 'mba_p',\n",
       "       'status', 'salary'],\n",
       "      dtype='object')"
      ]
     },
     "execution_count": 19,
     "metadata": {},
     "output_type": "execute_result"
    }
   ],
   "source": [
    "dataset.columns"
   ]
  },
  {
   "cell_type": "code",
   "execution_count": 20,
   "id": "1cae624e-76d7-45f6-a653-41d265110aa8",
   "metadata": {},
   "outputs": [
    {
     "data": {
      "text/plain": [
       "sl_no               int64\n",
       "gender             object\n",
       "ssc_p             float64\n",
       "ssc_b              object\n",
       "hsc_p             float64\n",
       "hsc_b              object\n",
       "hsc_s              object\n",
       "degree_p          float64\n",
       "degree_t           object\n",
       "workex             object\n",
       "etest_p           float64\n",
       "specialisation     object\n",
       "mba_p             float64\n",
       "status             object\n",
       "salary            float64\n",
       "dtype: object"
      ]
     },
     "execution_count": 20,
     "metadata": {},
     "output_type": "execute_result"
    }
   ],
   "source": [
    "dataset.dtypes"
   ]
  },
  {
   "cell_type": "code",
   "execution_count": 21,
   "id": "314796ef-e6e1-45ac-b452-64eb3ccbda49",
   "metadata": {},
   "outputs": [],
   "source": [
    "def quanQual(dataset):\n",
    "    quantitative=[]\n",
    "    qualitative=[]\n",
    "    for columnName in dataset.columns:\n",
    "        if(dataset[columnName].dtype == 'O'):\n",
    "        # print(\"qualitative\")\n",
    "           qualitative.append(columnName)\n",
    "        else:\n",
    "            # print(\"quantitative\")\n",
    "            quantitative.append(columnName)\n",
    "    return quantitative, qualitative   \n",
    "        "
   ]
  },
  {
   "cell_type": "code",
   "execution_count": 22,
   "id": "392a2007-5e19-4418-9387-73de26090114",
   "metadata": {},
   "outputs": [],
   "source": [
    "quantitative, qualitative = quanQual(dataset)"
   ]
  },
  {
   "cell_type": "code",
   "execution_count": 23,
   "id": "ef12fcbb-3666-4365-9e6c-b700e875ce14",
   "metadata": {},
   "outputs": [
    {
     "data": {
      "text/plain": [
       "['sl_no', 'ssc_p', 'hsc_p', 'degree_p', 'etest_p', 'mba_p', 'salary']"
      ]
     },
     "execution_count": 23,
     "metadata": {},
     "output_type": "execute_result"
    }
   ],
   "source": [
    "quantitative"
   ]
  },
  {
   "cell_type": "code",
   "execution_count": 24,
   "id": "b97c7071-8fed-46d3-af41-29c33391f495",
   "metadata": {},
   "outputs": [
    {
     "data": {
      "text/plain": [
       "['gender',\n",
       " 'ssc_b',\n",
       " 'hsc_b',\n",
       " 'hsc_s',\n",
       " 'degree_t',\n",
       " 'workex',\n",
       " 'specialisation',\n",
       " 'status']"
      ]
     },
     "execution_count": 24,
     "metadata": {},
     "output_type": "execute_result"
    }
   ],
   "source": [
    "qualitative"
   ]
  },
  {
   "cell_type": "code",
   "execution_count": 25,
   "id": "3609f52e-7376-4315-9a1e-9aca1c81be66",
   "metadata": {},
   "outputs": [
    {
     "name": "stdout",
     "output_type": "stream",
     "text": [
      "            sl_no       ssc_p       hsc_p    degree_p     etest_p       mba_p  \\\n",
      "count  215.000000  215.000000  215.000000  215.000000  215.000000  215.000000   \n",
      "mean   108.000000   67.303395   66.333163   66.370186   72.100558   62.278186   \n",
      "std     62.209324   10.827205   10.897509    7.358743   13.275956    5.833385   \n",
      "min      1.000000   40.890000   37.000000   50.000000   50.000000   51.210000   \n",
      "25%     54.500000   60.600000   60.900000   61.000000   60.000000   57.945000   \n",
      "50%    108.000000   67.000000   65.000000   66.000000   71.000000   62.000000   \n",
      "75%    161.500000   75.700000   73.000000   72.000000   83.500000   66.255000   \n",
      "max    215.000000   89.400000   97.700000   91.000000   98.000000   77.890000   \n",
      "\n",
      "              salary  \n",
      "count     148.000000  \n",
      "mean   288655.405405  \n",
      "std     93457.452420  \n",
      "min    200000.000000  \n",
      "25%    240000.000000  \n",
      "50%    265000.000000  \n",
      "75%    300000.000000  \n",
      "max    940000.000000  \n"
     ]
    }
   ],
   "source": [
    "print(dataset.describe())"
   ]
  },
  {
   "cell_type": "markdown",
   "id": "098254d9-07de-4bef-a49b-1f443330361a",
   "metadata": {},
   "source": [
    "##### 1)Replace the NaN values with correct value. And justify why you have chosen the same."
   ]
  },
  {
   "cell_type": "code",
   "execution_count": 29,
   "id": "1969541f-9102-40da-a826-f1cfd588187b",
   "metadata": {},
   "outputs": [],
   "source": [
    "# If not placed, salary should be 0\n",
    "dataset.loc[dataset[\"status\"] == \"Not Placed\", \"salary\"] = 0\n",
    "\n",
    "# If placed and salary is missing, use median salary\n",
    "median_salary = dataset[dataset[\"status\"] == \"Placed\"][\"salary\"].median()\n",
    "dataset[\"salary\"].fillna(median_salary, inplace=True)"
   ]
  },
  {
   "cell_type": "code",
   "execution_count": 27,
   "id": "8dfda9f8-52b5-4e4f-b12e-9203dc10d9f3",
   "metadata": {},
   "outputs": [
    {
     "data": {
      "text/plain": [
       "sl_no             0\n",
       "gender            0\n",
       "ssc_p             0\n",
       "ssc_b             0\n",
       "hsc_p             0\n",
       "hsc_b             0\n",
       "hsc_s             0\n",
       "degree_p          0\n",
       "degree_t          0\n",
       "workex            0\n",
       "etest_p           0\n",
       "specialisation    0\n",
       "mba_p             0\n",
       "status            0\n",
       "salary            0\n",
       "dtype: int64"
      ]
     },
     "execution_count": 27,
     "metadata": {},
     "output_type": "execute_result"
    }
   ],
   "source": [
    "dataset.isnull().sum()"
   ]
  },
  {
   "cell_type": "code",
   "execution_count": null,
   "id": "7dbf9b66-8c84-4237-b80e-0702f392591e",
   "metadata": {},
   "outputs": [],
   "source": [
    "# The Salary column had 67 missing values.\n",
    "# For students with \"Not Placed\" status, I set the salary to 0 (since they weren’t hired).\n",
    "# For students who were placed, I filled missing salaries with the median salary of all placed students."
   ]
  },
  {
   "cell_type": "code",
   "execution_count": null,
   "id": "074fe677-dd38-4ff8-b09e-f7c4aa6be277",
   "metadata": {},
   "outputs": [],
   "source": []
  },
  {
   "cell_type": "markdown",
   "id": "2617a478-ec0a-440e-9a03-b543d1578abe",
   "metadata": {},
   "source": [
    "##### 2)How many of them are not placed?"
   ]
  },
  {
   "cell_type": "code",
   "execution_count": 40,
   "id": "4a6e9b8d-d484-4626-8a94-9823899005c8",
   "metadata": {},
   "outputs": [
    {
     "name": "stdout",
     "output_type": "stream",
     "text": [
      "Number of students not placed:: 67\n"
     ]
    }
   ],
   "source": [
    "not_placed_status=dataset[dataset[\"status\"]==\"Not Placed\"].shape[0]\n",
    "print(\"Number of students not placed::\", not_placed_status)"
   ]
  },
  {
   "cell_type": "code",
   "execution_count": 41,
   "id": "0a2a4bb2-5e3d-43b1-afea-87cdc91c1867",
   "metadata": {},
   "outputs": [],
   "source": [
    "# I filtered the dataset for rows where the status is \"Not Placed\" and counted them."
   ]
  },
  {
   "cell_type": "code",
   "execution_count": null,
   "id": "8a1dd7bd-10b0-4cf3-8be6-36e3ae66a9c3",
   "metadata": {},
   "outputs": [],
   "source": []
  },
  {
   "cell_type": "markdown",
   "id": "adabe150-7536-4b7c-a493-3864f6fbf5a9",
   "metadata": {},
   "source": [
    "##### 3)Find the reason for non placement from the dataset?"
   ]
  },
  {
   "cell_type": "code",
   "execution_count": 45,
   "id": "580d822a-41e6-4e6c-82ea-d9121b7c3c92",
   "metadata": {},
   "outputs": [],
   "source": [
    "placed = dataset[dataset['status'] == 'Placed']\n",
    "not_placed = dataset[dataset['status'] == 'Not Placed']"
   ]
  },
  {
   "cell_type": "code",
   "execution_count": 44,
   "id": "7c36ffc5-be64-4df8-ac33-27a2e96f73f5",
   "metadata": {},
   "outputs": [
    {
     "name": "stdout",
     "output_type": "stream",
     "text": [
      "Average scores of Placed candidates:\n",
      "ssc_p       71.721486\n",
      "hsc_p       69.926554\n",
      "degree_p    68.740541\n",
      "etest_p     73.238041\n",
      "mba_p       62.579392\n",
      "dtype: float64\n",
      "\n",
      "Average scores of Not Placed candidates:\n",
      "ssc_p       57.544030\n",
      "hsc_p       58.395522\n",
      "degree_p    61.134179\n",
      "etest_p     69.587910\n",
      "mba_p       61.612836\n",
      "dtype: float64\n"
     ]
    }
   ],
   "source": [
    "print(\"Average scores of Placed candidates:\")\n",
    "print(placed[['ssc_p', 'hsc_p', 'degree_p', 'etest_p', 'mba_p']].mean())\n",
    "\n",
    "print(\"\\nAverage scores of Not Placed candidates:\")\n",
    "print(not_placed[['ssc_p', 'hsc_p', 'degree_p', 'etest_p', 'mba_p']].mean())"
   ]
  },
  {
   "cell_type": "code",
   "execution_count": 46,
   "id": "7bcbd69d-70dd-40c5-8328-eecbc67577cb",
   "metadata": {},
   "outputs": [
    {
     "name": "stdout",
     "output_type": "stream",
     "text": [
      "workex\n",
      "No     57\n",
      "Yes    10\n",
      "Name: count, dtype: int64\n",
      "specialisation\n",
      "Mkt&HR     42\n",
      "Mkt&Fin    25\n",
      "Name: count, dtype: int64\n"
     ]
    }
   ],
   "source": [
    "print(not_placed[\"workex\"].value_counts())\n",
    "print(not_placed[\"specialisation\"].value_counts())"
   ]
  },
  {
   "cell_type": "code",
   "execution_count": 47,
   "id": "91f917fc-77ab-497c-9daa-d74c5dab6b59",
   "metadata": {},
   "outputs": [],
   "source": [
    "# Students with lower SSC and HSC scores, no work experience, and Marketing & HR specialization were less likely to get placed.\n",
    "# Those with higher marks and work experience had better placement chances.\n",
    "# This shows that good academics and experience can improve placement outcomes."
   ]
  },
  {
   "cell_type": "code",
   "execution_count": null,
   "id": "1d5fda39-176b-481b-b80e-9ce6d4e6bcf6",
   "metadata": {},
   "outputs": [],
   "source": []
  },
  {
   "cell_type": "markdown",
   "id": "8260a4ae-2686-4db9-bdcd-2d451d7f1a03",
   "metadata": {},
   "source": [
    "##### 4)What kind of relation between salary and mba_p"
   ]
  },
  {
   "cell_type": "code",
   "execution_count": 48,
   "id": "40975bc8-aa87-4643-89c3-2d3a4acab914",
   "metadata": {},
   "outputs": [
    {
     "data": {
      "text/html": [
       "<div>\n",
       "<style scoped>\n",
       "    .dataframe tbody tr th:only-of-type {\n",
       "        vertical-align: middle;\n",
       "    }\n",
       "\n",
       "    .dataframe tbody tr th {\n",
       "        vertical-align: top;\n",
       "    }\n",
       "\n",
       "    .dataframe thead th {\n",
       "        text-align: right;\n",
       "    }\n",
       "</style>\n",
       "<table border=\"1\" class=\"dataframe\">\n",
       "  <thead>\n",
       "    <tr style=\"text-align: right;\">\n",
       "      <th></th>\n",
       "      <th>mba_p</th>\n",
       "      <th>salary</th>\n",
       "    </tr>\n",
       "  </thead>\n",
       "  <tbody>\n",
       "    <tr>\n",
       "      <th>mba_p</th>\n",
       "      <td>1.000000</td>\n",
       "      <td>0.139823</td>\n",
       "    </tr>\n",
       "    <tr>\n",
       "      <th>salary</th>\n",
       "      <td>0.139823</td>\n",
       "      <td>1.000000</td>\n",
       "    </tr>\n",
       "  </tbody>\n",
       "</table>\n",
       "</div>"
      ],
      "text/plain": [
       "           mba_p    salary\n",
       "mba_p   1.000000  0.139823\n",
       "salary  0.139823  1.000000"
      ]
     },
     "execution_count": 48,
     "metadata": {},
     "output_type": "execute_result"
    }
   ],
   "source": [
    "correlation = dataset[['mba_p','salary']].corr()\n",
    "correlation"
   ]
  },
  {
   "cell_type": "code",
   "execution_count": null,
   "id": "9ccffc02-5078-42de-9347-20d8d3a6b3f9",
   "metadata": {},
   "outputs": [],
   "source": [
    "# I found the correlation between MBA percentage and salary to be about 0.14, showing a very weak positive relationship.\n",
    "# This means students with higher MBA scores may earn slightly more, but the link is not strong — other factors likely affect salary more."
   ]
  },
  {
   "cell_type": "code",
   "execution_count": null,
   "id": "bfde6cfe-63c7-45f1-80d9-06b2816183ee",
   "metadata": {},
   "outputs": [],
   "source": []
  },
  {
   "cell_type": "markdown",
   "id": "1ad221ac-a50d-4de2-9edd-e9fd1418ecb9",
   "metadata": {},
   "source": [
    "##### 5)Which specialization is getting minimum salary?"
   ]
  },
  {
   "cell_type": "code",
   "execution_count": 49,
   "id": "8e9db24d-0f93-4271-9632-3fa56654df24",
   "metadata": {},
   "outputs": [
    {
     "name": "stdout",
     "output_type": "stream",
     "text": [
      "specialisation\n",
      "Mkt&Fin    236591.666667\n",
      "Mkt&HR     150842.105263\n",
      "Name: salary, dtype: float64\n"
     ]
    }
   ],
   "source": [
    "specialisation_salary = dataset.groupby(\"specialisation\")[\"salary\"].mean()\n",
    "print(specialisation_salary)"
   ]
  },
  {
   "cell_type": "code",
   "execution_count": 50,
   "id": "532cbc4c-91f7-405b-9036-b670a7cbf1ac",
   "metadata": {},
   "outputs": [
    {
     "name": "stdout",
     "output_type": "stream",
     "text": [
      "Specialisation with the lowest average salary is: Mkt&HR with 150842.1052631579\n"
     ]
    }
   ],
   "source": [
    "# idxmin() gives the label (not the value) of the smallest number in a Series\n",
    "min_specialisation = specialisation_salary.idxmin()\n",
    "min_salary = specialisation_salary.min()\n",
    "print(f\"Specialisation with the lowest average salary is: {min_specialisation} with {min_salary}\")\n"
   ]
  },
  {
   "cell_type": "code",
   "execution_count": null,
   "id": "70493f47-7d5b-4743-bf54-f2d295683f6a",
   "metadata": {},
   "outputs": [],
   "source": [
    "# I grouped the data by specialization and calculated the average salary for each.\n",
    "# Then, I used idxmin() to find the specialization with the lowest average salary.\n",
    "# This shows which specialization earns the least on average."
   ]
  },
  {
   "cell_type": "markdown",
   "id": "f4336888-c561-481c-bd0b-1f5943a58689",
   "metadata": {},
   "source": [
    " ##### 6)How many of them getting above 500000 salary?"
   ]
  },
  {
   "cell_type": "code",
   "execution_count": 53,
   "id": "2b803fbe-97c6-420c-9d07-1dc0e3a52e38",
   "metadata": {},
   "outputs": [],
   "source": [
    "highest_salary = dataset[dataset['salary']>500000]\n",
    "count=highest_salary.shape[0]"
   ]
  },
  {
   "cell_type": "code",
   "execution_count": 55,
   "id": "d42bedcc-6201-4f2f-8b17-4d802a40cbf7",
   "metadata": {},
   "outputs": [
    {
     "name": "stdout",
     "output_type": "stream",
     "text": [
      "Number of candidates with salary above Rs.500000: 3\n"
     ]
    }
   ],
   "source": [
    "print(f\"Number of candidates with salary above Rs.500000: {count}\")"
   ]
  },
  {
   "cell_type": "code",
   "execution_count": 56,
   "id": "44670e34-5c10-4e50-aee2-362eb1dfecb0",
   "metadata": {},
   "outputs": [],
   "source": [
    "# I filtered the data to find students with a salary above ₹500,000.\n",
    "# There are 3 such students, showing how many got high-paying jobs."
   ]
  },
  {
   "cell_type": "code",
   "execution_count": null,
   "id": "f376532d-34ae-445a-8acc-f4505f672f50",
   "metadata": {},
   "outputs": [],
   "source": []
  },
  {
   "cell_type": "markdown",
   "id": "550c4c5f-38f7-4172-8e7c-defac7b2a568",
   "metadata": {},
   "source": [
    "##### 7)Test the Analysis of Variance between etest_p and mba_p at signifance level 5%.(Make decision using Hypothesis Testing)"
   ]
  },
  {
   "cell_type": "code",
   "execution_count": 57,
   "id": "137d1499-b805-49c8-bb4c-5aceb2772cb4",
   "metadata": {},
   "outputs": [
    {
     "data": {
      "text/plain": [
       "F_onewayResult(statistic=np.float64(98.64487057324709), pvalue=np.float64(4.672547689133573e-21))"
      ]
     },
     "execution_count": 57,
     "metadata": {},
     "output_type": "execute_result"
    }
   ],
   "source": [
    "import scipy.stats as stats\n",
    "stats.f_oneway(dataset['etest_p'], dataset['mba_p'])"
   ]
  },
  {
   "cell_type": "code",
   "execution_count": 58,
   "id": "38edadff-0bde-490f-bd98-ffdfff12fb11",
   "metadata": {},
   "outputs": [],
   "source": [
    "# The p-value (4.67e-21) is much smaller than 0.05, so we reject the null hypothesis.\n",
    "# This means there is a significant difference between etest_p and mba_p scores."
   ]
  },
  {
   "cell_type": "code",
   "execution_count": null,
   "id": "c6fc87ea-7522-4f8d-97e3-d626d55e5e1b",
   "metadata": {},
   "outputs": [],
   "source": []
  },
  {
   "cell_type": "markdown",
   "id": "0bf9f408-fd37-40c2-b8c7-70644a611690",
   "metadata": {},
   "source": [
    "##### 8)Test the similarity between the degree_t(Sci&Tech) and specialisation(Mkt&HR) with respect to salary at significance level of 5%.(Make decision using Hypothesis Testing)"
   ]
  },
  {
   "cell_type": "code",
   "execution_count": 59,
   "id": "99af22ed-ea7e-44ed-914e-17d907e5d17d",
   "metadata": {},
   "outputs": [
    {
     "name": "stdout",
     "output_type": "stream",
     "text": [
      "TtestResult(statistic=np.float64(2.692041243555374), pvalue=np.float64(0.007897969943471179), df=np.float64(152.0))\n"
     ]
    }
   ],
   "source": [
    "from scipy.stats import ttest_ind\n",
    "# Filter 1: salaries of those with degree in Sci&Tech\n",
    "sci_tech_salary = dataset[dataset['degree_t'] == 'Sci&Tech']['salary']\n",
    "# Filter 2: salaries of those with specialisation in Mkt&HR\n",
    "mkt_hr_salary = dataset[dataset['specialisation'] == 'Mkt&HR']['salary']\n",
    "# Drop missing values if any\n",
    "sci_tech_salary = sci_tech_salary.dropna()\n",
    "mkt_hr_salary = mkt_hr_salary.dropna()\n",
    "result = ttest_ind(sci_tech_salary, mkt_hr_salary)\n",
    "print(result)"
   ]
  },
  {
   "cell_type": "code",
   "execution_count": null,
   "id": "77cedfbe-4f93-499c-8c3c-108fcbbbb69a",
   "metadata": {},
   "outputs": [],
   "source": [
    "# The p-value (0.0078) is less than 0.05, so we reject the null hypothesis.\n",
    "# This means there is a significant difference in salary between students with Sci&Tech and Mkt&HR degrees."
   ]
  },
  {
   "cell_type": "code",
   "execution_count": null,
   "id": "3a995f27-8535-43ed-9070-c3f3e560bb82",
   "metadata": {},
   "outputs": [],
   "source": []
  },
  {
   "cell_type": "markdown",
   "id": "5d7d9720-f6ee-47c5-b664-440b9dddfa7c",
   "metadata": {},
   "source": [
    "##### 9)Convert the normal distribution to standard normal distribution for salary column"
   ]
  },
  {
   "cell_type": "code",
   "execution_count": 60,
   "id": "9de09592-83c5-40bc-8a23-46cd8a1884f7",
   "metadata": {},
   "outputs": [
    {
     "data": {
      "text/plain": [
       "<Axes: xlabel='salary', ylabel='Density'>"
      ]
     },
     "execution_count": 60,
     "metadata": {},
     "output_type": "execute_result"
    },
    {
     "data": {
      "image/png": "[encoded data removed]",
      "text/plain": [
       "<Figure size 640x480 with 1 Axes>"
      ]
     },
     "metadata": {},
     "output_type": "display_data"
    }
   ],
   "source": [
    "import seaborn as sns\n",
    "sns.distplot(dataset[\"salary\"])"
   ]
  },
  {
   "cell_type": "code",
   "execution_count": 61,
   "id": "0ddcc3de-2cde-4adf-9965-01b65947013e",
   "metadata": {},
   "outputs": [],
   "source": [
    "def stdNBgraph(dataset):\n",
    "    #convert to standard normal distribution\n",
    "    import seaborn as sns\n",
    "    mean = dataset.mean()\n",
    "    std = dataset.std()\n",
    "\n",
    "    values = [i for i in dataset]\n",
    "    z_score = [((j-mean)/std) for j in values]\n",
    "\n",
    "    sns.distplot(z_score, kde = True)\n",
    "\n",
    "    sum(z_score)/len(z_score)"
   ]
  },
  {
   "cell_type": "code",
   "execution_count": 62,
   "id": "6f2fc574-913c-4b5c-a9a5-24b031f2230d",
   "metadata": {},
   "outputs": [
    {
     "data": {
      "image/png": "[encoded data removed]",
      "text/plain": [
       "<Figure size 640x480 with 1 Axes>"
      ]
     },
     "metadata": {},
     "output_type": "display_data"
    }
   ],
   "source": [
    "stdNBgraph(dataset[\"salary\"])"
   ]
  },
  {
   "cell_type": "code",
   "execution_count": null,
   "id": "05623cb7-0658-42b7-bc53-4dc91f580b29",
   "metadata": {},
   "outputs": [],
   "source": [
    "# I made a function to standardize numeric columns using the Z-score formula.\n",
    "# After plotting with seaborn, the mean was about 0, confirming the transformation worked correctly."
   ]
  },
  {
   "cell_type": "code",
   "execution_count": null,
   "id": "7048f101-ded5-4721-b066-5b547ffa1f60",
   "metadata": {},
   "outputs": [],
   "source": []
  },
  {
   "cell_type": "markdown",
   "id": "389452db-a693-4a63-8407-e18388cf1c94",
   "metadata": {},
   "source": [
    "#####  10)What is the probability Density Function of the salary range from 700000 to 900000?"
   ]
  },
  {
   "cell_type": "code",
   "execution_count": 63,
   "id": "f76c11a3-2298-46eb-a4a7-a1673bddb577",
   "metadata": {},
   "outputs": [],
   "source": [
    "def get_pdf_probability(dataset, startrange, endrange):\n",
    "    from matplotlib import pyplot\n",
    "    from scipy.stats import norm\n",
    "    import seaborn as sns\n",
    "    ax = sns.distplot(dataset, kde = True, kde_kws = {'color': 'blue'}, color = 'Green')\n",
    "    pyplot.axvline(startrange, color = 'Red')\n",
    "    pyplot.axvline(endrange, color = 'Red')\n",
    "    #generate a sample\n",
    "    sample = dataset\n",
    "    #caluclate parameters\n",
    "    sample_mean = sample.mean()\n",
    "    sample_std = sample.std()\n",
    "    print('Mean = %.3f, Standard Deviation = %.3f' % (sample_mean, sample_std))\n",
    "    dist = norm(sample_mean, sample_std)\n",
    "\n",
    "    values = [value for value in range(startrange, endrange)]\n",
    "    probabilities = [dist.pdf(value) for value in values]\n",
    "    probs = sum(probabilities)\n",
    "    print(\"The area between range({}, {}): {}\".format(startrange,endrange,sum(probabilities)))\n",
    "    return probs"
   ]
  },
  {
   "cell_type": "code",
   "execution_count": 64,
   "id": "5bac1ad0-a39a-4099-9c60-f5aa4291c233",
   "metadata": {},
   "outputs": [
    {
     "name": "stdout",
     "output_type": "stream",
     "text": [
      "Mean = 198702.326, Standard Deviation = 154780.927\n",
      "The area between range(700000, 900000): 0.0005973310593974868\n"
     ]
    },
    {
     "data": {
      "text/plain": [
       "np.float64(0.0005973310593974868)"
      ]
     },
     "execution_count": 64,
     "metadata": {},
     "output_type": "execute_result"
    },
    {
     "data": {
      "image/png": "[encoded data removed]",
      "text/plain": [
       "<Figure size 640x480 with 1 Axes>"
      ]
     },
     "metadata": {},
     "output_type": "display_data"
    }
   ],
   "source": [
    "get_pdf_probability(dataset[\"salary\"], 700000, 900000)"
   ]
  },
  {
   "cell_type": "code",
   "execution_count": null,
   "id": "21a5c8ab-12fb-49af-bdd9-42eab6a6cb9f",
   "metadata": {},
   "outputs": [],
   "source": [
    "# I used the normal distribution to find the chance of earning between ₹700,000 and ₹900,000.\n",
    "# With a mean salary of ₹198,702.33 and standard deviation of ₹154,780.93, the probability was 0.000597 — very small.\n",
    "# This means high salaries are rare, and most people earn much less, near the average."
   ]
  },
  {
   "cell_type": "code",
   "execution_count": null,
   "id": "9c0a18bb-521d-4a7a-bbda-d31ae36aef8c",
   "metadata": {},
   "outputs": [],
   "source": []
  },
  {
   "cell_type": "markdown",
   "id": "464b89f2-a3af-4b69-8bb1-52db86a0f126",
   "metadata": {},
   "source": [
    "##### 11)Test the similarity between the degree_t(Sci&Tech)with respect to etest_p and mba_p at significance level of 5%.(Make decision using Hypothesis Testing)"
   ]
  },
  {
   "cell_type": "code",
   "execution_count": 65,
   "id": "a7254cc1-5c96-4801-b5cb-94bc472f1067",
   "metadata": {},
   "outputs": [
    {
     "data": {
      "text/plain": [
       "TtestResult(statistic=np.float64(4.532000225151251), pvalue=np.float64(1.4289217003775636e-05), df=np.float64(116.0))"
      ]
     },
     "execution_count": 65,
     "metadata": {},
     "output_type": "execute_result"
    }
   ],
   "source": [
    "from scipy.stats import ttest_rel\n",
    "a = dataset[dataset['degree_t']=='Sci&Tech']['etest_p']\n",
    "b = dataset[dataset['degree_t']=='Sci&Tech']['mba_p']\n",
    "ttest_ind(a, b)"
   ]
  },
  {
   "cell_type": "code",
   "execution_count": null,
   "id": "dcb66303-3009-4646-a47b-6b7f4701450c",
   "metadata": {},
   "outputs": [],
   "source": [
    "# The p-value is below 0.05, so we reject the null hypothesis.\n",
    "# This means there is a significant difference between etest_p and mba_p scores for Sci&Tech students."
   ]
  },
  {
   "cell_type": "code",
   "execution_count": null,
   "id": "5a31693d-42c4-4ca3-a479-4feaec6f3a64",
   "metadata": {},
   "outputs": [],
   "source": []
  },
  {
   "cell_type": "markdown",
   "id": "1485bcd6-a95b-4365-91c3-0aebec493b86",
   "metadata": {},
   "source": [
    "##### 12)Which parameter is highly correlated with salary?"
   ]
  },
  {
   "cell_type": "code",
   "execution_count": 67,
   "id": "4d0e615d-45f0-419e-b68c-281ea947ab5a",
   "metadata": {},
   "outputs": [
    {
     "name": "stdout",
     "output_type": "stream",
     "text": [
      "salary      1.000000\n",
      "ssc_p       0.538090\n",
      "hsc_p       0.452569\n",
      "degree_p    0.408371\n",
      "etest_p     0.186988\n",
      "mba_p       0.139823\n",
      "sl_no       0.002543\n",
      "Name: salary, dtype: float64\n"
     ]
    }
   ],
   "source": [
    "numeric_cols = dataset.select_dtypes(include=['float64', 'int64'])\n",
    "correlations = numeric_cols.corr()\n",
    "salary_correlations = correlations['salary'].sort_values(ascending=False)\n",
    "print(salary_correlations)"
   ]
  },
  {
   "cell_type": "code",
   "execution_count": 68,
   "id": "da51ce03-f013-4651-968d-1c036a776749",
   "metadata": {},
   "outputs": [],
   "source": [
    "# The ssc_p (10th grade percentage) shows the strongest positive correlation with salary (r = 0.538).\n",
    "# This means students with higher 10th grade scores tend to get better salaries after placement."
   ]
  },
  {
   "cell_type": "code",
   "execution_count": null,
   "id": "2016d92c-b5f4-4d2a-aadf-7918909d6b34",
   "metadata": {},
   "outputs": [],
   "source": []
  },
  {
   "cell_type": "markdown",
   "id": "17641bc7-39e7-4e70-a678-0636ab654e70",
   "metadata": {},
   "source": [
    "##### 13) plot any useful graph and explain it."
   ]
  },
  {
   "cell_type": "code",
   "execution_count": 69,
   "id": "c5f410e8-559c-4f5a-8797-29ee05fe3e4b",
   "metadata": {},
   "outputs": [
    {
     "data": {
      "image/png": "[encoded data removed]",
      "text/plain": [
       "<Figure size 640x480 with 1 Axes>"
      ]
     },
     "metadata": {},
     "output_type": "display_data"
    }
   ],
   "source": [
    "import matplotlib.pyplot as plt\n",
    "salary_yes = dataset[dataset['workex'] == 'Yes']['salary']\n",
    "salary_no = dataset[dataset['workex'] == 'No']['salary']\n",
    "\n",
    "plt.hist(salary_yes, bins=10, alpha=0.7, label='WorkEx = Yes', color='red')\n",
    "plt.hist(salary_no, bins=10, alpha=0.7, label='WorkEx = No', color='green')\n",
    "plt.xlabel('Salary')\n",
    "plt.ylabel('Count')\n",
    "plt.title('Salary Distribution Based on Work Experience')\n",
    "plt.legend()\n",
    "plt.show()"
   ]
  },
  {
   "cell_type": "code",
   "execution_count": null,
   "id": "e1e8e1af-0f89-4648-b8ad-6b7248e67dca",
   "metadata": {},
   "outputs": [],
   "source": [
    "# I made a histogram to compare salary distributions for students with and without work experience.\n",
    "# It shows that students without experience mostly earn less or aren’t placed,\n",
    "# while those with experience tend to earn higher salaries — suggesting work experience helps in placements."
   ]
  },
  {
   "cell_type": "code",
   "execution_count": null,
   "id": "4827f28b-4917-4ff8-87dd-fe24c663fcc2",
   "metadata": {},
   "outputs": [],
   "source": []
  }
 ],
 "metadata": {
  "kernelspec": {
   "display_name": "Python 3 (ipykernel)",
   "language": "python",
   "name": "python3"
  },
  "language_info": {
   "codemirror_mode": {
    "name": "ipython",
    "version": 3
   },
   "file_extension": ".py",
   "mimetype": "text/x-python",
   "name": "python",
   "nbconvert_exporter": "python",
   "pygments_lexer": "ipython3",
   "version": "3.13.7"
  }
 },
 "nbformat": 4,
 "nbformat_minor": 5
}
